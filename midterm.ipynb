{
  "cells": [
    {
      "cell_type": "markdown",
      "metadata": {
        "id": "view-in-github",
        "colab_type": "text"
      },
      "source": [
        "<a href=\"https://colab.research.google.com/github/Tejaswini123Charku/HDS5210/blob/main/midterm.ipynb\" target=\"_parent\"><img src=\"https://colab.research.google.com/assets/colab-badge.svg\" alt=\"Open In Colab\"/></a>"
      ]
    },
    {
      "cell_type": "markdown",
      "metadata": {
        "id": "9kT4-2yqCH2a"
      },
      "source": [
        "# HDS5210-2024 Midterm\n",
        "\n",
        "In the midterm, you're going to use all the programming and data management skills you've developed so far to build a risk calculator that pretends to be integrated with a clinical registry.  You'll compute the PRIEST COVID-19 Clinical Severity Score for a series of patients and, based on their risk of an adverse outcome, query a REST web service to find a hospital to transfer them to. The end result of your work will be a list of instructions on where each patient should be discharged given their risk and various characteristics of the patient.\n",
        "\n",
        "Each step in the midterm will build up to form your complete solution.\n",
        "\n",
        "**Make sure you write good docstrings and doctests along the way!!**\n",
        "\n",
        "**The midterm is due at 11:59 PM CST on Monday, October 24th.**\n",
        "\n",
        "---"
      ]
    },
    {
      "cell_type": "markdown",
      "metadata": {
        "id": "zKPct_H3CH2k"
      },
      "source": [
        "## Step 1: Calculate PRIEST Clinical Severity Score\n",
        "\n",
        "This scoring algorithm can be found [here on the MDCalc website](https://www.mdcalc.com/priest-covid-19-clinical-severity-score#evidence).  \n",
        "\n",
        "1. You will need to write a function called **priest()** with the following input parameters.  \n",
        " * Sex (Gender assigned at birth)\n",
        " * Age in years\n",
        " * Respiratory rate in breaths per minute\n",
        " * Oxygen saturation as a percent between 0 and 1\n",
        " * Heart rate in beats per minute\n",
        " * Systolic BP in mmHg\n",
        " * Temperature in degrees C\n",
        " * Alertness as a string description\n",
        " * Inspired Oxygen as as string description\n",
        " * Performance Status as a string description\n",
        "2. The function will need to follow the algorithm provided on the MDCalc website to compute a risk percentage that should be returned as a numeric value between 0 and 1.\n",
        "3. Be sure to use docstring documentation and at least three built-in docstring test cases.\n",
        "4. Assume that the input values that are strings could be any combination of upper or lower case. For example: 'male', 'Male', 'MALE', 'MalE' should all be interpretted by your code as male.\n",
        "5. If any of the inputs are invalid (for example a sex value that is not recognizable as male or female) your code should return None.\n",
        "\n",
        "NOTES:\n",
        "1. In the final step there is a table that translates from **PRIEST Score** to **30-day probability of an outcome** but the last two probabilities are shown as ranges (59-88% and >99%).  Our code needs to output a single number, however. For our code, use the following rule:\n",
        " * If PRIEST score is between 17 and 25, the probability you return should be 0.59\n",
        " * If PRIEST score is greater than or equal to 26, the probability you return should be 0.99\n"
      ]
    },
    {
      "cell_type": "code",
      "execution_count": 1,
      "metadata": {
        "id": "FaHXFCLLCH2l"
      },
      "outputs": [],
      "source": [
        "def priest(sex, age, respiratory_rate, oxygen_sat, heartrate, systolicBP, temp, alertness, inspired_oxygen, perf_status):\n",
        "  \"\"\"\n",
        "\n",
        "    >>> priest(\"male\", 66, 22, 0.94, 102, 85, 38.5, \"Confused or not alert\", \"supplemental oxygen\", \"unrestricted normal activity\")\n",
        "    0.59\n",
        "    >>> priest(\"female\", 40, 24, 0.96, 105, 115, 34.9, \"ALERT\",\"AIR\",\"unrestricted normal activity\")\n",
        "    0.15\n",
        "    >>> priest('female', 50, 18, 0.96, 90, 120, 36.5, 'alert', 'air', 'limited self-care')\n",
        "    0.09\n",
        "    >>> priest(\"invalid\", 50, 18, 0.96, 90, 120, 36.5, \"alert\", \"air\", \"UNRISTRICTED NORMAL ACTIVITY\") is None\n",
        "    True\n",
        "    \"\"\"\n",
        "  PRIEST_Score = 0\n",
        "  sex = sex.upper()\n",
        "  if sex =='MALE':\n",
        "    PRIEST_Score += 1\n",
        "  elif sex == 'FEMALE':\n",
        "    PRIEST_Score  += 0\n",
        "  else:\n",
        "     return None\n",
        "  if age > 80:\n",
        "    PRIEST_Score += 4\n",
        "  elif 66 <= age <= 80:\n",
        "    PRIEST_Score += 3\n",
        "  elif 50 <= age <= 65:\n",
        "    PRIEST_Score += 2\n",
        "  if respiratory_rate < 9:\n",
        "    PRIEST_Score += 3\n",
        "  elif 9 <= respiratory_rate <= 11:\n",
        "    PRIEST_Score += 1\n",
        "  elif 21 <= respiratory_rate <= 24:\n",
        "    PRIEST_Score += 2\n",
        "  elif respiratory_rate > 24:\n",
        "    PRIEST_Score += 3\n",
        "  if  0.94 <= oxygen_sat <= 0.95:\n",
        "    PRIEST_Score += 1\n",
        "  elif 0.92 <= oxygen_sat <= 0.93:\n",
        "    PRIEST_Score += 2\n",
        "  elif oxygen_sat < 0.92:\n",
        "    PRIEST_Score += 3\n",
        "  if heartrate < 41:\n",
        "    PRIEST_Score += 3\n",
        "  elif 91 <= heartrate <= 110:\n",
        "    PRIEST_Score += 1\n",
        "  elif 41 <= heartrate <= 50:\n",
        "    PRIEST_Score += 1\n",
        "  elif 111 <= heartrate <= 130:\n",
        "    PRIEST_Score += 2\n",
        "  elif heartrate > 130:\n",
        "    PRIEST_Score += 3\n",
        "  if systolicBP < 91:\n",
        "    PRIEST_Score += 3\n",
        "  elif 91 <= systolicBP <= 100:\n",
        "    PRIEST_Score += 2\n",
        "  elif 101 <= systolicBP <= 110:\n",
        "    PRIEST_Score += 1\n",
        "  elif systolicBP > 219:\n",
        "    PRIEST_Score += 3\n",
        "\n",
        "  if temp > 39.0:\n",
        "    PRIEST_Score += 2\n",
        "  elif 35.1 <= temp <= 36.0:\n",
        "    PRIEST_Score += 1\n",
        "  elif 38.1 <= temp <= 39.0:\n",
        "    PRIEST_Score += 1\n",
        "  elif temp < 35.1:\n",
        "    PRIEST_Score += 3\n",
        "\n",
        "  alertness = alertness.upper()\n",
        "  if alertness == 'CONFUSED OR NOT ALERT':\n",
        "    PRIEST_Score += 3\n",
        "  elif alertness == 'ALERT':\n",
        "    PRIEST_Score += 0\n",
        "  else:\n",
        "    return 'None'\n",
        "  inspired_oxygen = inspired_oxygen.upper()\n",
        "  if inspired_oxygen == 'SUPPLEMENTAL OXYGEN':\n",
        "    PRIEST_Score += 2\n",
        "  elif inspired_oxygen == 'AIR':\n",
        "    PRIEST_Score += 0\n",
        "  else:\n",
        "    return 'None'\n",
        "  perf_status = perf_status.upper()\n",
        "  if perf_status == 'LIMITED STRENUOUS ACTIVITY, CAN DO LIGHT ACTIVITY':\n",
        "    PRIEST_Score += 1\n",
        "  elif perf_status == 'LIMITED ACTIVITY, CAN SELF-CARE':\n",
        "    PRIEST_Score += 2\n",
        "  elif perf_status == 'LIMITED SELF-CARE':\n",
        "    PRIEST_Score += 3\n",
        "  elif perf_status == 'BED/CHAIR BOUND, NO SELF-CARE':\n",
        "    PRIEST_Score += 4\n",
        "  elif perf_status == 'UNRESTRICTED NORMAL ACTIVITY':\n",
        "    PRIEST_Score += 0\n",
        "  else:\n",
        "    return None\n",
        "\n",
        "  if PRIEST_Score >= 26:\n",
        "    return 0.99\n",
        "  elif 25 >= PRIEST_Score >= 17:\n",
        "    return 0.59\n",
        "  elif PRIEST_Score == 16:\n",
        "    return 0.55\n",
        "  elif PRIEST_Score == 15:\n",
        "    return 0.49\n",
        "  elif PRIEST_Score == 14:\n",
        "    return 0.47\n",
        "  elif PRIEST_Score == 13:\n",
        "    return 0.46\n",
        "  elif PRIEST_Score == 12:\n",
        "    return 0.38\n",
        "  elif PRIEST_Score == 11:\n",
        "    return 0.34\n",
        "  elif PRIEST_Score == 10:\n",
        "    return 0.29\n",
        "  elif PRIEST_Score == 9:\n",
        "    return 0.26\n",
        "  elif PRIEST_Score == 8:\n",
        "    return 0.22\n",
        "  elif PRIEST_Score == 7:\n",
        "    return 0.18\n",
        "  elif PRIEST_Score == 6:\n",
        "    return 0.15\n",
        "  elif PRIEST_Score == 5:\n",
        "    return 0.09\n",
        "  elif PRIEST_Score == 4:\n",
        "    return 0.03\n",
        "  elif PRIEST_Score == 2 or PRIEST_Score == 3:\n",
        "    return 0.02\n",
        "  elif PRIEST_Score == 0 or PRIEST_Score == 1:\n",
        "    return 0.01\n",
        "  else:\n",
        "    return None\n"
      ]
    },
    {
      "cell_type": "code",
      "source": [
        "import doctest\n",
        "doctest.run_docstring_examples(priest, globals(),verbose=True)"
      ],
      "metadata": {
        "colab": {
          "base_uri": "https://localhost:8080/"
        },
        "id": "jc7WZT16cv64",
        "outputId": "036a60b3-175b-40f8-82fc-fa7605309e31"
      },
      "execution_count": 2,
      "outputs": [
        {
          "output_type": "stream",
          "name": "stderr",
          "text": [
            "\n",
            "PYDEV DEBUGGER WARNING:\n",
            "sys.settrace() should not be used when the debugger is being used.\n",
            "This may cause the debugger to stop working correctly.\n",
            "If this is needed, please check: \n",
            "http://pydev.blogspot.com/2007/06/why-cant-pydev-debugger-work-with.html\n",
            "to see how to restore the debug tracing back correctly.\n",
            "Call Location:\n",
            "  File \"/usr/lib/python3.10/doctest.py\", line 1501, in run\n",
            "    sys.settrace(save_trace)\n",
            "\n"
          ]
        },
        {
          "output_type": "stream",
          "name": "stdout",
          "text": [
            "Finding tests in NoName\n",
            "Trying:\n",
            "    priest(\"male\", 66, 22, 0.94, 102, 85, 38.5, \"Confused or not alert\", \"supplemental oxygen\", \"unrestricted normal activity\")\n",
            "Expecting:\n",
            "    0.59\n",
            "ok\n",
            "Trying:\n",
            "    priest(\"female\", 40, 24, 0.96, 105, 115, 34.9, \"ALERT\",\"AIR\",\"unrestricted normal activity\")\n",
            "Expecting:\n",
            "    0.15\n",
            "ok\n",
            "Trying:\n",
            "    priest('female', 50, 18, 0.96, 90, 120, 36.5, 'alert', 'air', 'limited self-care')\n",
            "Expecting:\n",
            "    0.09\n",
            "ok\n",
            "Trying:\n",
            "    priest(\"invalid\", 50, 18, 0.96, 90, 120, 36.5, \"alert\", \"air\", \"UNRISTRICTED NORMAL ACTIVITY\") is None\n",
            "Expecting:\n",
            "    True\n",
            "ok\n"
          ]
        }
      ]
    },
    {
      "cell_type": "markdown",
      "metadata": {
        "id": "mO07scXNCH2l"
      },
      "source": [
        "## Part 2: Find a hospital\n",
        "\n",
        "The next thing we have to do is figure out where to send this particular patient.  The guidelines on where to send a patient are based on their age (pediatric, adult, geriatric), sex, and risk percentage.  Luckily, you don't have to implement these rules. I already have. All you have to do is use a REST web service that I've created for you.\n",
        "\n",
        "You'll want to use Python to make a call to my REST web service similar to the example URL below. The first part of the URL will be the same for everyone and every request that you make. What you will need to modify for each of your requests is the information after the question mark.\n",
        "\n",
        "```\n",
        "https://oumdj6oci2.execute-api.us-east-1.amazonaws.com/prd/?age=40&sex=male&risk_pct=0.1\n",
        "```\n",
        "\n",
        "The example above asks my web service where a 40-year old male with a risk of 10% should go.  What the web service will return back is a JSON string containing the information you need.  That JSON will look like this:\n",
        "\n",
        "```json\n",
        "{\n",
        "  \"age\": \"40\",\n",
        "  \"sex\": \"male\",\n",
        "  \"risk\": \"0.1\",\n",
        "  \"hospital\": \"Southwest Hospital and Medical Center\"\n",
        "}\n",
        "```\n",
        "\n",
        "My function is not smart enough to understand `'MALE'` is the same as `'male'`.  You have to send it exactly `'male'` or `'female'`\n",
        "\n",
        "1. Your job is to write a function called **find_hospital()** that takes age, sex, and risk as parameters.\n",
        "2. Your function should call this REST web service using the `requests` module\n",
        "3. Then your function will need to interpret the JSON it gets and return just the name of the hospital\n",
        "4. If anything fails, return None\n",
        "5. Include a good docstring with at least three test cases.\n"
      ]
    },
    {
      "cell_type": "code",
      "execution_count": 3,
      "metadata": {
        "id": "Gctxc66CCH2m"
      },
      "outputs": [],
      "source": [
        "import requests\n",
        "def find_hospital(age, sex, risk):\n",
        "    \"\"\"\n",
        "    >>> find_hospital(40, 'male', 0.1)\n",
        "    'Southwest Hospital and Medical Center'\n",
        "    >>> find_hospital(50, 'female', 0.2)\n",
        "    'Select Specialty Hospital - Northeast Atlanta'\n",
        "    >>> find_hospital(70, 'male', 0.98)\n",
        "    'Wesley Woods Geriatric Hospital'\n",
        "    \"\"\"\n",
        "    try:\n",
        "        link = f\"https://oumdj6oci2.execute-api.us-east-1.amazonaws.com/prd/?age={age}&sex={sex}&risk_pct={risk}\"\n",
        "        resp = requests.get(link)\n",
        "        d = resp.json()\n",
        "        return d.get('hospital')\n",
        "    except:\n",
        "        return None"
      ]
    },
    {
      "cell_type": "code",
      "execution_count": 4,
      "metadata": {
        "colab": {
          "base_uri": "https://localhost:8080/"
        },
        "id": "2Er-UYKcCH2m",
        "outputId": "a287c749-2dbe-4886-c22b-ef07efcd8627"
      },
      "outputs": [
        {
          "output_type": "stream",
          "name": "stdout",
          "text": [
            "Finding tests in NoName\n",
            "Trying:\n",
            "    find_hospital(40, 'male', 0.1)\n",
            "Expecting:\n",
            "    'Southwest Hospital and Medical Center'\n",
            "ok\n",
            "Trying:\n",
            "    find_hospital(50, 'female', 0.2)\n",
            "Expecting:\n",
            "    'Select Specialty Hospital - Northeast Atlanta'\n",
            "ok\n",
            "Trying:\n",
            "    find_hospital(70, 'male', 0.98)\n",
            "Expecting:\n",
            "    'Wesley Woods Geriatric Hospital'\n",
            "ok\n"
          ]
        }
      ],
      "source": [
        "import doctest\n",
        "doctest.run_docstring_examples(find_hospital, globals(),verbose=True)"
      ]
    },
    {
      "cell_type": "markdown",
      "metadata": {
        "id": "waDiv4gICH2m"
      },
      "source": [
        "## Part 3: Get the address for that hospital from a JSON file\n",
        "\n",
        "Great! Now we have code to tell us which hospital to send someone to... but we don't know where that hospital is. The next function we need to create is one that looks up the address of that hospital.  All of these hospitals are in Atlanta, Georgia.  We're going to use the list from this webpage to lookup the address for that hospital, based on its name.  https://www.officialusa.com/stateguides/health/hospitals/georgia.html\n",
        "\n",
        "Because we skipped the section about Beautiful Soup and working with HTML, I've converted this information into a JSON document for you.  It's available for you here.  Your code should retrieve this file using the `requests` module.\n",
        "\n",
        "`https://drive.google.com/uc?export=download&id=1fIFD-NkcdiMu941N4GjyMDWxiKsFJBw-`\n",
        "\n",
        "1. You need to create a function called **get_address()** that takes hospital name as a parameter and searches the data from this JSON file for the hospital you want to find.\n",
        "2. Your code will have to load the JSON and return the correct hospital based on name.\n",
        "3. If the hospital name isn't found, the function should return None.\n",
        "4. Be sure to use good docstring documentation and includes at least 3 test cases."
      ]
    },
    {
      "cell_type": "code",
      "source": [
        "def get_address(hospname):\n",
        "    \"\"\"\n",
        "    >>> get_address('COOK MEDICAL CENTER')\n",
        "    '706 NORTH PARRISH AVENUE'\n",
        "    >>> get_address('PHOEBE PUTNEY MEMORIAL HOSPITAL')\n",
        "    '417 THIRD AVENUE'\n",
        "    >>> get_address('PHOEBE PUTNEY MEMORIAL HOSPITAL - NORTH CAMPUS')\n",
        "    '2000 PALMYRA ROAD'\n",
        "    >>> get_address('Select Specialty Hospital - Northeast Atlanta')\n",
        "    '1821 CLIFTON ROAD NE'\n",
        "    \"\"\"\n",
        "    link = \"https://drive.google.com/uc?export=download&id=1fIFD-NkcdiMu941N4GjyMDWxiKsFJBw-\"\n",
        "    try:\n",
        "        resp = requests.get(link)\n",
        "        hosp_data = resp.json()\n",
        "        hospinfo = hosp_data.get(hospname.upper())\n",
        "        if hospinfo:\n",
        "            return hospinfo.get('ADDRESS')\n",
        "        return None\n",
        "    except:\n",
        "        return None"
      ],
      "metadata": {
        "id": "Vi6L156ezKWy"
      },
      "execution_count": 5,
      "outputs": []
    },
    {
      "cell_type": "code",
      "source": [
        "import doctest\n",
        "doctest.run_docstring_examples(get_address, globals(), verbose=True)"
      ],
      "metadata": {
        "colab": {
          "base_uri": "https://localhost:8080/"
        },
        "id": "z_IeFpuntpFs",
        "outputId": "54af5856-50a7-4f2d-beb8-e3c1393e04bb"
      },
      "execution_count": 6,
      "outputs": [
        {
          "output_type": "stream",
          "name": "stdout",
          "text": [
            "Finding tests in NoName\n",
            "Trying:\n",
            "    get_address('COOK MEDICAL CENTER')\n",
            "Expecting:\n",
            "    '706 NORTH PARRISH AVENUE'\n",
            "ok\n",
            "Trying:\n",
            "    get_address('PHOEBE PUTNEY MEMORIAL HOSPITAL')\n",
            "Expecting:\n",
            "    '417 THIRD AVENUE'\n",
            "ok\n",
            "Trying:\n",
            "    get_address('PHOEBE PUTNEY MEMORIAL HOSPITAL - NORTH CAMPUS')\n",
            "Expecting:\n",
            "    '2000 PALMYRA ROAD'\n",
            "ok\n",
            "Trying:\n",
            "    get_address('Select Specialty Hospital - Northeast Atlanta')\n",
            "Expecting:\n",
            "    '1821 CLIFTON ROAD NE'\n",
            "ok\n"
          ]
        }
      ]
    },
    {
      "cell_type": "markdown",
      "metadata": {
        "id": "66M6Lr1QCH2m"
      },
      "source": [
        "## Part 4: Run the risk calculator on a population\n",
        "\n",
        "At the link below, there is a file called `people.psv`.  It is a pipe-delimited (`|`) file with columns that match the inputs for the PRIEST calculation above.  Your code should use the `requests` module to retrieve the file from this URL.\n",
        "\n",
        "`https://drive.google.com/uc?export=download&id=1fLxJN9YGUqmqExrilxSS8furwUER5HHh`\n",
        "\n",
        "\n",
        "In addition, the file has a patient identifier in the first column.\n",
        "\n",
        "1. Write a function called **process_people()** that takes the file location above as its only parameter. Your Python program should use your code above to process all of these rows, determine the hospital and address, and return a list whose items are a dictionary like this: `{ patient_number: [sex, age, breath, o2sat, heart, systolic, temp, alertness, inspired, status, hospital, address]}`.  Look at the file in Part 5 for what the output looks like.\n",
        "2. Be sure to use good docstrings, but you don't need any tests in your doc strings.  I've provided those for you withe file in Part 5.\n",
        "\n",
        "\n",
        "**NOTE** that when running your code for all the 100 records in the `people.psv` file, it may take a few minutes to complete.  You're making multiple calls to the internet for each record, so that can take a little while.\n"
      ]
    },
    {
      "cell_type": "code",
      "source": [
        "import requests\n",
        "\n",
        "def process_people(link):\n",
        "\n",
        "    try:\n",
        "        resp= requests.get(link)\n",
        "        patient_data = []\n",
        "        lines = resp.text.splitlines()\n",
        "\n",
        "        for line in lines[1:]:\n",
        "            patient = line.split('|')\n",
        "            patient_id = patient[0]\n",
        "            sex = patient[1]\n",
        "            age = int(patient[2])\n",
        "            breath = float(patient[3])\n",
        "            o2sat = float(patient[4])\n",
        "            heart = float(patient[5])\n",
        "            systolic = float(patient[6])\n",
        "            temp = float(patient[7])\n",
        "            alertness = patient[8]\n",
        "            inspired = patient[9]\n",
        "            status = patient[10]\n",
        "            risk = priest(sex, age, breath, o2sat, heart, systolic, temp, alertness, inspired, status)\n",
        "            sex = sex.lower()\n",
        "            hospname = find_hospital(age, sex, risk)\n",
        "            if hospname:\n",
        "                hospaddr = get_address(hospname)\n",
        "            else:\n",
        "                hospaddr = None\n",
        "            sex_updated = sex.upper()\n",
        "            dict_patient= {\n",
        "                patient_id: [sex_updated, age, breath, o2sat, heart, systolic, temp, alertness, inspired, status, hospname, hospaddr]\n",
        "            }\n",
        "            patient_data.append(dict_patient)\n",
        "\n",
        "        return patient_data\n",
        "\n",
        "    except:\n",
        "        return None\n",
        "patient_data = process_people('https://drive.google.com/uc?export=download&id=1fLxJN9YGUqmqExrilxSS8furwUER5HHh')\n",
        "\n",
        "if patient_data:\n",
        "    print(\"First 5 patients:\")\n",
        "    for i in range(min(5, len(patient_data))):\n",
        "        print(patient_data[i])\n",
        "else:\n",
        "    print(\"No data found.\")\n"
      ],
      "metadata": {
        "colab": {
          "base_uri": "https://localhost:8080/"
        },
        "id": "GnnDWJtz35GW",
        "outputId": "9c389565-397a-465e-9e1e-36b9d0da7f5c"
      },
      "execution_count": 7,
      "outputs": [
        {
          "output_type": "stream",
          "name": "stdout",
          "text": [
            "First 5 patients:\n",
            "{'E9559': ['FEMALE', 40, 24.0, 0.96, 105.0, 115.0, 34.9, 'ALERT', 'AIR', 'unrestricted normal activity', 'Select Specialty Hospital - Northeast Atlanta', '1821 CLIFTON ROAD NE']}\n",
            "{'E9385': ['FEMALE', 51, 19.0, 0.99, 90.0, 91.0, 38.1, 'ALERT', 'supplemental oxygen', 'unrestricted normal activity', 'Select Specialty Hospital - Northeast Atlanta', '1821 CLIFTON ROAD NE']}\n",
            "{'E3067': ['FEMALE', 40, 29.0, 0.96, 105.0, 95.0, 38.1, 'ALERT', 'air', 'unrestricted normal activity', 'Select Specialty Hospital - Northeast Atlanta', '1821 CLIFTON ROAD NE']}\n",
            "{'E9422': ['FEMALE', 66, 19.0, 0.96, 135.0, 115.0, 38.1, 'ALERT', 'AIR', 'bed/chair bound, no self-care', 'Wesley Woods Geriatric Hospital', '1821 CLIFTON ROAD, NE']}\n",
            "{'E8661': ['MALE', 18, 22.0, 0.95, 105.0, 115.0, 36.3, 'Confused or Not Alert', 'air', 'unrestricted normal activity', 'Southwest Hospital and Medical Center', '501 FAIRBURN ROAD SW']}\n"
          ]
        }
      ]
    },
    {
      "cell_type": "markdown",
      "metadata": {
        "id": "AXV7bOCSCH2n"
      },
      "source": [
        "## Part 5: Checking your final results\n",
        "\n",
        "The final step is to check your results.  You should be able to compare your results to the output in `people_results.json` at the link below.  Write some code to check your results.  This does not need to be a function.\n",
        "\n",
        "`https://drive.google.com/uc?export=download&id=1gx1SSC20mO5XL6uYD0mdcM_cL91fcIW5`\n"
      ]
    },
    {
      "cell_type": "code",
      "source": [
        "import requests\n",
        "import json\n",
        "\n",
        "result_resp = requests.get('https://drive.google.com/uc?export=download&id=1gx1SSC20mO5XL6uYD0mdcM_cL91fcIW5')\n",
        "json_results = result_resp.json()\n",
        "def clean_json_data(json_data):\n",
        "    cleaned_data = {}\n",
        "    for patient_id, details in json_data.items():\n",
        "        if len(details) > 10:\n",
        "            cleaned_data[patient_id] = [details[0].upper()] + details[1:10] + details[11:]\n",
        "        else:\n",
        "            cleaned_data[patient_id] = [details[0].upper()] + details[1:]\n",
        "    return cleaned_data\n",
        "\n",
        "cleaned_json_results = clean_json_data(json_results)\n",
        "\n",
        "def compare_results(processed_data, cleaned_json_data):\n",
        "    differences = []\n",
        "    for patient in processed_data:\n",
        "        for patient_id, details in patient.items():\n",
        "            if patient_id in cleaned_json_data:\n",
        "                if details != cleaned_json_data[patient_id]:\n",
        "                    differences.append((patient_id, details, cleaned_json_data[patient_id]))\n",
        "            else:\n",
        "                differences.append((patient_id, details, \"Patient ID not found in JSON\"))\n",
        "\n",
        "    return differences\n",
        "differences = compare_results(patient_data, cleaned_json_results)\n",
        "\n",
        "if differences:\n",
        "  print(\"...\")\n",
        "else:\n",
        "    print(\"All data matches the cleaned JSON results.\")\n"
      ],
      "metadata": {
        "colab": {
          "base_uri": "https://localhost:8080/"
        },
        "id": "ng0lv32qUpUD",
        "outputId": "934f1748-5ffd-498d-9123-aff8e3f6bff9"
      },
      "execution_count": 12,
      "outputs": [
        {
          "output_type": "stream",
          "name": "stdout",
          "text": [
            "All data matches the cleaned JSON results.\n"
          ]
        }
      ]
    },
    {
      "cell_type": "markdown",
      "metadata": {
        "id": "6-d38yXrCH2n"
      },
      "source": [
        "---\n",
        "\n",
        "## Check your work above\n",
        "\n",
        "If you didn't get them all correct, take a few minutes to think through those that aren't correct.\n",
        "\n",
        "\n",
        "## Submitting Your Work\n",
        "\n",
        "Submit your work as usual into a folder named `midterm`"
      ]
    },
    {
      "cell_type": "markdown",
      "metadata": {
        "id": "0_xBg_SvCH2n"
      },
      "source": [
        "---"
      ]
    }
  ],
  "metadata": {
    "kernelspec": {
      "display_name": "Python 3",
      "language": "python",
      "name": "python3"
    },
    "language_info": {
      "codemirror_mode": {
        "name": "ipython",
        "version": 3
      },
      "file_extension": ".py",
      "mimetype": "text/x-python",
      "name": "python",
      "nbconvert_exporter": "python",
      "pygments_lexer": "ipython3",
      "version": "3.9.6"
    },
    "colab": {
      "provenance": [],
      "include_colab_link": true
    }
  },
  "nbformat": 4,
  "nbformat_minor": 0
}